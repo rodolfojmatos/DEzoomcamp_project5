{
 "cells": [
  {
   "cell_type": "code",
   "execution_count": 1,
   "metadata": {},
   "outputs": [],
   "source": [
    "import pandas as pd"
   ]
  },
  {
   "cell_type": "code",
   "execution_count": 12,
   "metadata": {},
   "outputs": [],
   "source": [
    "df = pd.read_csv(\"/home/Rodolfo/data-engineering-zoomcamp/05-batch/code/data/raw/fhv/2019/10/fhv_tripdata_2019_10.csv.gz\")\n",
    "#/home/Rodolfo/data-engineering-zoomcamp/05-batch/code/data/raw/fhv/2019/01/fhv_tripdata_2019_01.csv.gz"
   ]
  },
  {
   "cell_type": "code",
   "execution_count": 13,
   "metadata": {},
   "outputs": [
    {
     "data": {
      "text/plain": [
       "Index(['dispatching_base_num', 'pickup_datetime', 'dropOff_datetime',\n",
       "       'PUlocationID', 'DOlocationID', 'SR_Flag', 'Affiliated_base_number'],\n",
       "      dtype='object')"
      ]
     },
     "execution_count": 13,
     "metadata": {},
     "output_type": "execute_result"
    }
   ],
   "source": [
    "df.columns"
   ]
  },
  {
   "cell_type": "code",
   "execution_count": 6,
   "metadata": {},
   "outputs": [
    {
     "name": "stdout",
     "output_type": "stream",
     "text": [
      "<class 'pandas.core.frame.DataFrame'>\n",
      "RangeIndex: 23143222 entries, 0 to 23143221\n",
      "Data columns (total 7 columns):\n",
      " #   Column                  Dtype  \n",
      "---  ------                  -----  \n",
      " 0   dispatching_base_num    object \n",
      " 1   pickup_datetime         object \n",
      " 2   dropOff_datetime        object \n",
      " 3   PUlocationID            float64\n",
      " 4   DOlocationID            float64\n",
      " 5   SR_Flag                 float64\n",
      " 6   Affiliated_base_number  object \n",
      "dtypes: float64(3), object(4)\n",
      "memory usage: 1.2+ GB\n"
     ]
    }
   ],
   "source": [
    "df.info()"
   ]
  },
  {
   "cell_type": "code",
   "execution_count": 10,
   "metadata": {},
   "outputs": [
    {
     "data": {
      "text/html": [
       "<div>\n",
       "<style scoped>\n",
       "    .dataframe tbody tr th:only-of-type {\n",
       "        vertical-align: middle;\n",
       "    }\n",
       "\n",
       "    .dataframe tbody tr th {\n",
       "        vertical-align: top;\n",
       "    }\n",
       "\n",
       "    .dataframe thead th {\n",
       "        text-align: right;\n",
       "    }\n",
       "</style>\n",
       "<table border=\"1\" class=\"dataframe\">\n",
       "  <thead>\n",
       "    <tr style=\"text-align: right;\">\n",
       "      <th></th>\n",
       "      <th>dispatching_base_num</th>\n",
       "      <th>pickup_datetime</th>\n",
       "      <th>dropOff_datetime</th>\n",
       "      <th>PUlocationID</th>\n",
       "      <th>DOlocationID</th>\n",
       "      <th>SR_Flag</th>\n",
       "      <th>Affiliated_base_number</th>\n",
       "    </tr>\n",
       "  </thead>\n",
       "  <tbody>\n",
       "    <tr>\n",
       "      <th>1469</th>\n",
       "      <td>B02395</td>\n",
       "      <td>2019-01-01 00:50:26</td>\n",
       "      <td>2019-01-01 01:16:07</td>\n",
       "      <td>48.0</td>\n",
       "      <td>144.0</td>\n",
       "      <td>1.0</td>\n",
       "      <td>B00887</td>\n",
       "    </tr>\n",
       "    <tr>\n",
       "      <th>1470</th>\n",
       "      <td>B02395</td>\n",
       "      <td>2019-01-01 00:51:20</td>\n",
       "      <td>2019-01-01 01:16:07</td>\n",
       "      <td>48.0</td>\n",
       "      <td>144.0</td>\n",
       "      <td>2.0</td>\n",
       "      <td>B00887</td>\n",
       "    </tr>\n",
       "    <tr>\n",
       "      <th>1474</th>\n",
       "      <td>B02395</td>\n",
       "      <td>2019-01-01 00:56:24</td>\n",
       "      <td>2019-01-01 01:10:11</td>\n",
       "      <td>181.0</td>\n",
       "      <td>54.0</td>\n",
       "      <td>1.0</td>\n",
       "      <td>B02346</td>\n",
       "    </tr>\n",
       "    <tr>\n",
       "      <th>1475</th>\n",
       "      <td>B02395</td>\n",
       "      <td>2019-01-01 00:58:12</td>\n",
       "      <td>2019-01-01 01:02:23</td>\n",
       "      <td>181.0</td>\n",
       "      <td>181.0</td>\n",
       "      <td>2.0</td>\n",
       "      <td>B02346</td>\n",
       "    </tr>\n",
       "    <tr>\n",
       "      <th>1485</th>\n",
       "      <td>B02395</td>\n",
       "      <td>2019-01-01 00:24:44</td>\n",
       "      <td>2019-01-01 00:29:54</td>\n",
       "      <td>126.0</td>\n",
       "      <td>168.0</td>\n",
       "      <td>1.0</td>\n",
       "      <td>B00887</td>\n",
       "    </tr>\n",
       "  </tbody>\n",
       "</table>\n",
       "</div>"
      ],
      "text/plain": [
       "     dispatching_base_num      pickup_datetime     dropOff_datetime  \\\n",
       "1469               B02395  2019-01-01 00:50:26  2019-01-01 01:16:07   \n",
       "1470               B02395  2019-01-01 00:51:20  2019-01-01 01:16:07   \n",
       "1474               B02395  2019-01-01 00:56:24  2019-01-01 01:10:11   \n",
       "1475               B02395  2019-01-01 00:58:12  2019-01-01 01:02:23   \n",
       "1485               B02395  2019-01-01 00:24:44  2019-01-01 00:29:54   \n",
       "\n",
       "      PUlocationID  DOlocationID  SR_Flag Affiliated_base_number  \n",
       "1469          48.0         144.0      1.0                 B00887  \n",
       "1470          48.0         144.0      2.0                 B00887  \n",
       "1474         181.0          54.0      1.0                 B02346  \n",
       "1475         181.0         181.0      2.0                 B02346  \n",
       "1485         126.0         168.0      1.0                 B00887  "
      ]
     },
     "execution_count": 10,
     "metadata": {},
     "output_type": "execute_result"
    }
   ],
   "source": [
    "df[df['SR_Flag'].notna()].head()"
   ]
  },
  {
   "cell_type": "code",
   "execution_count": 22,
   "metadata": {},
   "outputs": [],
   "source": [
    "filter = df[(df['pickup_datetime']>='2019-10-15') & (df['pickup_datetime']<'2019-10-16')]"
   ]
  },
  {
   "cell_type": "code",
   "execution_count": 24,
   "metadata": {},
   "outputs": [],
   "source": [
    "df['pickup_datetime'] = pd.to_datetime(df['pickup_datetime'])\n",
    "df['dropOff_datetime'] = pd.to_datetime(df['dropOff_datetime'])\n",
    "df['trip_duration'] = df['dropOff_datetime'] - df['pickup_datetime']\n"
   ]
  },
  {
   "cell_type": "code",
   "execution_count": 26,
   "metadata": {},
   "outputs": [],
   "source": [
    "df['trip_duration_hour'] = df['trip_duration'].dt.total_seconds() /3600"
   ]
  },
  {
   "cell_type": "code",
   "execution_count": 11,
   "metadata": {},
   "outputs": [
    {
     "data": {
      "text/plain": [
       "array([nan,  1.,  2.,  3.,  4.,  5.,  6.,  7.,  8.,  9., 10., 11., 12.,\n",
       "       15., 16., 13., 14., 17., 18., 19., 20., 21., 22., 23., 24., 25.,\n",
       "       26., 27., 28., 29., 30., 31., 32., 33., 34., 35., 36., 37., 38.,\n",
       "       39., 40., 41., 42., 43.])"
      ]
     },
     "execution_count": 11,
     "metadata": {},
     "output_type": "execute_result"
    }
   ],
   "source": [
    "df['SR_Flag'].unique()"
   ]
  },
  {
   "cell_type": "code",
   "execution_count": 35,
   "metadata": {},
   "outputs": [
    {
     "data": {
      "text/plain": [
       "23.983333333333334"
      ]
     },
     "execution_count": 35,
     "metadata": {},
     "output_type": "execute_result"
    }
   ],
   "source": [
    "df['trip_duration_hour'][df['trip_duration_hour']<24].max()"
   ]
  },
  {
   "cell_type": "code",
   "execution_count": 33,
   "metadata": {},
   "outputs": [
    {
     "data": {
      "text/html": [
       "<div>\n",
       "<style scoped>\n",
       "    .dataframe tbody tr th:only-of-type {\n",
       "        vertical-align: middle;\n",
       "    }\n",
       "\n",
       "    .dataframe tbody tr th {\n",
       "        vertical-align: top;\n",
       "    }\n",
       "\n",
       "    .dataframe thead th {\n",
       "        text-align: right;\n",
       "    }\n",
       "</style>\n",
       "<table border=\"1\" class=\"dataframe\">\n",
       "  <thead>\n",
       "    <tr style=\"text-align: right;\">\n",
       "      <th></th>\n",
       "      <th>pickup_datetime</th>\n",
       "      <th>dropOff_datetime</th>\n",
       "      <th>trip_duration_hour</th>\n",
       "    </tr>\n",
       "  </thead>\n",
       "  <tbody>\n",
       "    <tr>\n",
       "      <th>681920</th>\n",
       "      <td>2019-10-11 18:00:00</td>\n",
       "      <td>2091-10-11 18:30:00</td>\n",
       "      <td>631152.5</td>\n",
       "    </tr>\n",
       "    <tr>\n",
       "      <th>1659031</th>\n",
       "      <td>2019-10-28 09:00:00</td>\n",
       "      <td>2091-10-28 09:30:00</td>\n",
       "      <td>631152.5</td>\n",
       "    </tr>\n",
       "  </tbody>\n",
       "</table>\n",
       "</div>"
      ],
      "text/plain": [
       "            pickup_datetime    dropOff_datetime  trip_duration_hour\n",
       "681920  2019-10-11 18:00:00 2091-10-11 18:30:00            631152.5\n",
       "1659031 2019-10-28 09:00:00 2091-10-28 09:30:00            631152.5"
      ]
     },
     "execution_count": 33,
     "metadata": {},
     "output_type": "execute_result"
    }
   ],
   "source": [
    "df[['pickup_datetime','dropOff_datetime','trip_duration_hour']][df['trip_duration_hour']==631152.5]"
   ]
  },
  {
   "cell_type": "code",
   "execution_count": 37,
   "metadata": {},
   "outputs": [
    {
     "data": {
      "text/html": [
       "<div>\n",
       "<style scoped>\n",
       "    .dataframe tbody tr th:only-of-type {\n",
       "        vertical-align: middle;\n",
       "    }\n",
       "\n",
       "    .dataframe tbody tr th {\n",
       "        vertical-align: top;\n",
       "    }\n",
       "\n",
       "    .dataframe thead th {\n",
       "        text-align: right;\n",
       "    }\n",
       "</style>\n",
       "<table border=\"1\" class=\"dataframe\">\n",
       "  <thead>\n",
       "    <tr style=\"text-align: right;\">\n",
       "      <th></th>\n",
       "      <th>pickup_datetime</th>\n",
       "      <th>dropOff_datetime</th>\n",
       "      <th>trip_duration_hour</th>\n",
       "    </tr>\n",
       "  </thead>\n",
       "  <tbody>\n",
       "    <tr>\n",
       "      <th>1801568</th>\n",
       "      <td>2019-10-30 12:30:04</td>\n",
       "      <td>2019-12-30 13:02:08</td>\n",
       "      <td>1464.534444</td>\n",
       "    </tr>\n",
       "    <tr>\n",
       "      <th>1482215</th>\n",
       "      <td>2019-10-25 07:04:57</td>\n",
       "      <td>2019-12-08 07:54:33</td>\n",
       "      <td>1056.826667</td>\n",
       "    </tr>\n",
       "    <tr>\n",
       "      <th>1482214</th>\n",
       "      <td>2019-10-25 07:04:57</td>\n",
       "      <td>2019-12-08 07:21:11</td>\n",
       "      <td>1056.270556</td>\n",
       "    </tr>\n",
       "    <tr>\n",
       "      <th>33314</th>\n",
       "      <td>2019-10-01 13:47:17</td>\n",
       "      <td>2019-11-03 15:20:28</td>\n",
       "      <td>793.553056</td>\n",
       "    </tr>\n",
       "    <tr>\n",
       "      <th>9103</th>\n",
       "      <td>2019-10-01 07:21:12</td>\n",
       "      <td>2019-11-03 08:44:21</td>\n",
       "      <td>793.385833</td>\n",
       "    </tr>\n",
       "    <tr>\n",
       "      <th>...</th>\n",
       "      <td>...</td>\n",
       "      <td>...</td>\n",
       "      <td>...</td>\n",
       "    </tr>\n",
       "    <tr>\n",
       "      <th>212674</th>\n",
       "      <td>2019-10-04 07:38:05</td>\n",
       "      <td>2019-10-04 07:38:06</td>\n",
       "      <td>0.000278</td>\n",
       "    </tr>\n",
       "    <tr>\n",
       "      <th>311425</th>\n",
       "      <td>2019-10-05 19:35:47</td>\n",
       "      <td>2019-10-05 19:35:48</td>\n",
       "      <td>0.000278</td>\n",
       "    </tr>\n",
       "    <tr>\n",
       "      <th>1012314</th>\n",
       "      <td>2019-10-17 13:44:12</td>\n",
       "      <td>2019-10-17 13:44:13</td>\n",
       "      <td>0.000278</td>\n",
       "    </tr>\n",
       "    <tr>\n",
       "      <th>1599456</th>\n",
       "      <td>2019-10-27 06:25:07</td>\n",
       "      <td>2019-10-27 06:25:08</td>\n",
       "      <td>0.000278</td>\n",
       "    </tr>\n",
       "    <tr>\n",
       "      <th>227891</th>\n",
       "      <td>2019-10-04 11:05:21</td>\n",
       "      <td>2019-10-04 11:05:22</td>\n",
       "      <td>0.000278</td>\n",
       "    </tr>\n",
       "  </tbody>\n",
       "</table>\n",
       "<p>1897487 rows × 3 columns</p>\n",
       "</div>"
      ],
      "text/plain": [
       "            pickup_datetime    dropOff_datetime  trip_duration_hour\n",
       "1801568 2019-10-30 12:30:04 2019-12-30 13:02:08         1464.534444\n",
       "1482215 2019-10-25 07:04:57 2019-12-08 07:54:33         1056.826667\n",
       "1482214 2019-10-25 07:04:57 2019-12-08 07:21:11         1056.270556\n",
       "33314   2019-10-01 13:47:17 2019-11-03 15:20:28          793.553056\n",
       "9103    2019-10-01 07:21:12 2019-11-03 08:44:21          793.385833\n",
       "...                     ...                 ...                 ...\n",
       "212674  2019-10-04 07:38:05 2019-10-04 07:38:06            0.000278\n",
       "311425  2019-10-05 19:35:47 2019-10-05 19:35:48            0.000278\n",
       "1012314 2019-10-17 13:44:12 2019-10-17 13:44:13            0.000278\n",
       "1599456 2019-10-27 06:25:07 2019-10-27 06:25:08            0.000278\n",
       "227891  2019-10-04 11:05:21 2019-10-04 11:05:22            0.000278\n",
       "\n",
       "[1897487 rows x 3 columns]"
      ]
     },
     "execution_count": 37,
     "metadata": {},
     "output_type": "execute_result"
    }
   ],
   "source": [
    "df[['pickup_datetime','dropOff_datetime','trip_duration_hour']][df['dropOff_datetime']<\"2020-01-01\"].sort_values(by='trip_duration_hour', ascending=False)"
   ]
  },
  {
   "cell_type": "code",
   "execution_count": null,
   "metadata": {},
   "outputs": [],
   "source": []
  }
 ],
 "metadata": {
  "kernelspec": {
   "display_name": "base",
   "language": "python",
   "name": "python3"
  },
  "language_info": {
   "codemirror_mode": {
    "name": "ipython",
    "version": 3
   },
   "file_extension": ".py",
   "mimetype": "text/x-python",
   "name": "python",
   "nbconvert_exporter": "python",
   "pygments_lexer": "ipython3",
   "version": "3.1.undefined"
  }
 },
 "nbformat": 4,
 "nbformat_minor": 2
}
